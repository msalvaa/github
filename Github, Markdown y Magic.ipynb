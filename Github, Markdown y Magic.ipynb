{
 "cells": [
  {
   "cell_type": "markdown",
   "id": "55599e3d",
   "metadata": {},
   "source": [
    "# Investigación 1"
   ]
  },
  {
   "cell_type": "markdown",
   "id": "2f178c1c",
   "metadata": {},
   "source": [
    "# Github y git"
   ]
  },
  {
   "cell_type": "markdown",
   "id": "8b2cd357",
   "metadata": {},
   "source": [
    "Github es un servicio donde los desarrolladores pueden subir su código. La ventaja principal de Github es que tiene un control de versiones Git. Esto permite que cualquier cambio que se haga al código sea registrado y se pueda consultar que es lo que cambió con cada versión de la aplicación. "
   ]
  },
  {
   "cell_type": "markdown",
   "id": "f2a6eb85",
   "metadata": {},
   "source": [
    "## Repositorios"
   ]
  },
  {
   "cell_type": "markdown",
   "id": "a1770449",
   "metadata": {},
   "source": [
    "Github funciona con base en repositorios. Se podrían pensar los repositorios como proyectos organizados en distintas carpetas, y en cada repositorio se tienen todos los archivos necesarios para que la aplicación funcione. Los repositorios pueden ser públicos o privados, y pueden ser colaborativos entre varios desarrolladores. Si un repositorio es público, cualquiera lo puede \"clonar\" para manipularlo sin hacerle cambios al repositorio original."
   ]
  },
  {
   "cell_type": "markdown",
   "id": "774ff769",
   "metadata": {},
   "source": [
    "## Herramientas colaborativas"
   ]
  },
  {
   "cell_type": "markdown",
   "id": "9800e0a3",
   "metadata": {},
   "source": [
    "Una de las características importantes de Github son las ramas. La rama principal de un repositorio se llama \"Main\", y en esta se encuentra la aplicación en su versión final más reciente. Pero como en este tipo de proyectos es común que se hagan cambios y mejoras constantes, de esta rama principal se pueden hacer subramas, que son el espacio donde se pueden hacer pruebas y cambios al código sin modificar el código de la rama principal. Ya al estar totalmente satisfecho con los cambios y verificar que estos no causen efectos inesperados, se pueden guardar en la rama principal y actualizar así el repositorio. \n",
    "\n",
    "Otra de las características que tiene Github son los \"pull requests\". Estos son cambios que un desarrollador puede sugerir a otro, sin estar en colaboración directa o compartiendo un repositorio. Estas solicitudes permiten comparar el repositorio original con el modificado, para que el desarrollador del código original pueda decidir si está de acuerdo con los cambios sugeridos."
   ]
  },
  {
   "cell_type": "markdown",
   "id": "01c2304a",
   "metadata": {},
   "source": [
    "## Lenguajes"
   ]
  },
  {
   "cell_type": "markdown",
   "id": "06376abc",
   "metadata": {},
   "source": [
    "Entre los lenguajes que Github permite utilizar están:\n",
    "* C, C++ y C#\n",
    "* Go\n",
    "* Java y Javascript\n",
    "* PHP\n",
    "* Python\n",
    "* Ruby\n",
    "* Scala\n",
    "* TypeScript"
   ]
  },
  {
   "cell_type": "markdown",
   "id": "1b420789",
   "metadata": {},
   "source": [
    "# Markdown"
   ]
  },
  {
   "cell_type": "markdown",
   "id": "c771b064",
   "metadata": {},
   "source": [
    "Markdown es un lenguaje de mercado orientado a textos que permite formatearlos sin tener que usar HTML. Con Markdown se pueden hacer los formatos típicos de una hoja de texto, como agregar títulos, crear secciones, crear bullets y listas numeradas, agregar tablas e imágenes, entre otros. La ventaja de utilizar Markdown en lugar de un Word o un bloc de notas, es que tiene integración con lenguajes de programación. Esto permite hacer una mezcla de código y texto, lo cual es útil sobre todo en la creación de documentos que integren ambos, como un reporte. Por ejemplo, en un documento de Word, si se genera una gráfica en Python o en R, se tendría que copiar y pegar, y si la gráfica se cambia en algún momento, se tendría que volver a copiar y pegar. Markdown se ahorra esto, ya que se puede integrar directamente la gráfica en el documento de texto, y si se hace un cambio, solo se vuelve a correr el documento y se genera actualizado."
   ]
  },
  {
   "cell_type": "markdown",
   "id": "aed7733f",
   "metadata": {},
   "source": [
    "## Comandos de Markdown"
   ]
  },
  {
   "cell_type": "markdown",
   "id": "1d9273f3",
   "metadata": {},
   "source": [
    "En general, Markdown es menos \"interactivo\" que lo que sería un Word en su forma más básica, ya que requiere de distintos comandos antes o alrededor del texto para darle el formato deseado. Existen herramientos como Visual Studio Code que permiten que estos formatos se hagan de una forma más intuitiva para el usuario."
   ]
  },
  {
   "cell_type": "markdown",
   "id": "936aacf9",
   "metadata": {},
   "source": [
    "### Títulos"
   ]
  },
  {
   "cell_type": "markdown",
   "id": "875e4fac",
   "metadata": {},
   "source": [
    "Para crear títulos se utiliza el signo de numeral y un espacio previo al texto. El número de numerales indica el tamaño y la jerarquía del título, siendo 1 el título más principal.\n",
    "\n",
    "# Este es un título con un numeral.\n",
    "## Este es un título con dos numerales.\n",
    "### Este es un título con tres numerales."
   ]
  },
  {
   "cell_type": "markdown",
   "id": "7182d335",
   "metadata": {},
   "source": [
    "### Formatos de texto\n",
    "\n",
    "A los textos de contenido se le pueden aplicar formatos como bold e itálicas, poniéndoles distintos caracteres alrededor.\n",
    "\n",
    "**Este es un texto en bold**, *este es un texto en itálicas*"
   ]
  },
  {
   "cell_type": "markdown",
   "id": "5dc296a8",
   "metadata": {},
   "source": [
    "### Bullets y listas\n",
    "\n",
    "Se pueden crear listas, tanto numeradas como con bullets, colocando los números de la lista con un punto (en el caso de las listas numeradas) y un guión o un asterisco (en el caso de los bullets)."
   ]
  },
  {
   "cell_type": "markdown",
   "id": "d2d61e1a",
   "metadata": {},
   "source": [
    "1. Este es el primer elemento de la lista.\n",
    "2. Segundo elemento.\n",
    "3. Tercer elemento.\n",
    "\n",
    "- con bullets puede ser con guión\n",
    "* o con asterisco"
   ]
  },
  {
   "cell_type": "markdown",
   "id": "3ec0f8d6",
   "metadata": {},
   "source": [
    "### Links a sitios externos\n",
    "\n",
    "Se pueden hacer links a sitios externos que sean clickeables, colocando primero entre llaves lo que se quiere desplegar como el texto que aparece en el documento, y luego entre paréntesis el link del sitio.\n",
    "\n",
    "[Este link lleva a google](https://www.google.com)"
   ]
  },
  {
   "cell_type": "markdown",
   "id": "dd4409af",
   "metadata": {},
   "source": [
    "### Inserción de imágenes\n",
    "Se pueden insertar imágenes, tanto locales como en línea. Es más recomendado que sean en línea, ya que si están en la máquina local se puede romper el vínculo al abrirlo en otra ubicación. Para insertar una imagen que está en línea, es igual que con los vínculos a sitios, pero con un signo de exclamación al principio.\n",
    "\n",
    "![Esta imagen es de un perro](https://www.akc.org/wp-content/uploads/2017/11/GettyImages-187066830.jpg)"
   ]
  },
  {
   "cell_type": "markdown",
   "id": "606a3868",
   "metadata": {},
   "source": [
    "# Magic"
   ]
  },
  {
   "cell_type": "markdown",
   "id": "611a327f",
   "metadata": {},
   "source": [
    "Los comandos mágicos de Python sirven para modificar el comportamiento del notebook o de ciertas celdas. Estos empiezan con % o %%."
   ]
  },
  {
   "cell_type": "markdown",
   "id": "ddab4ce0",
   "metadata": {},
   "source": [
    "## Comandos para líneas\n",
    "Los comandos que se pueden usar para modificar líneas son los que comienzan con un %:"
   ]
  },
  {
   "cell_type": "code",
   "execution_count": 7,
   "id": "34d70ac7",
   "metadata": {},
   "outputs": [
    {
     "data": {
      "application/json": {
       "cell": {
        "!": "OSMagics",
        "HTML": "Other",
        "SVG": "Other",
        "bash": "Other",
        "capture": "ExecutionMagics",
        "cmd": "Other",
        "debug": "ExecutionMagics",
        "file": "Other",
        "html": "DisplayMagics",
        "javascript": "DisplayMagics",
        "js": "DisplayMagics",
        "latex": "DisplayMagics",
        "markdown": "DisplayMagics",
        "perl": "Other",
        "prun": "ExecutionMagics",
        "pypy": "Other",
        "python": "Other",
        "python2": "Other",
        "python3": "Other",
        "ruby": "Other",
        "script": "ScriptMagics",
        "sh": "Other",
        "svg": "DisplayMagics",
        "sx": "OSMagics",
        "system": "OSMagics",
        "time": "ExecutionMagics",
        "timeit": "ExecutionMagics",
        "writefile": "OSMagics"
       },
       "line": {
        "alias": "OSMagics",
        "alias_magic": "BasicMagics",
        "autoawait": "AsyncMagics",
        "autocall": "AutoMagics",
        "automagic": "AutoMagics",
        "autosave": "KernelMagics",
        "bookmark": "OSMagics",
        "cd": "OSMagics",
        "clear": "KernelMagics",
        "cls": "KernelMagics",
        "colors": "BasicMagics",
        "conda": "PackagingMagics",
        "config": "ConfigMagics",
        "connect_info": "KernelMagics",
        "copy": "Other",
        "ddir": "Other",
        "debug": "ExecutionMagics",
        "dhist": "OSMagics",
        "dirs": "OSMagics",
        "doctest_mode": "BasicMagics",
        "echo": "Other",
        "ed": "Other",
        "edit": "KernelMagics",
        "env": "OSMagics",
        "gui": "BasicMagics",
        "hist": "Other",
        "history": "HistoryMagics",
        "killbgscripts": "ScriptMagics",
        "ldir": "Other",
        "less": "KernelMagics",
        "load": "CodeMagics",
        "load_ext": "ExtensionMagics",
        "loadpy": "CodeMagics",
        "logoff": "LoggingMagics",
        "logon": "LoggingMagics",
        "logstart": "LoggingMagics",
        "logstate": "LoggingMagics",
        "logstop": "LoggingMagics",
        "ls": "Other",
        "lsmagic": "BasicMagics",
        "macro": "ExecutionMagics",
        "magic": "BasicMagics",
        "matplotlib": "PylabMagics",
        "mkdir": "Other",
        "more": "KernelMagics",
        "notebook": "BasicMagics",
        "page": "BasicMagics",
        "pastebin": "CodeMagics",
        "pdb": "ExecutionMagics",
        "pdef": "NamespaceMagics",
        "pdoc": "NamespaceMagics",
        "pfile": "NamespaceMagics",
        "pinfo": "NamespaceMagics",
        "pinfo2": "NamespaceMagics",
        "pip": "PackagingMagics",
        "popd": "OSMagics",
        "pprint": "BasicMagics",
        "precision": "BasicMagics",
        "prun": "ExecutionMagics",
        "psearch": "NamespaceMagics",
        "psource": "NamespaceMagics",
        "pushd": "OSMagics",
        "pwd": "OSMagics",
        "pycat": "OSMagics",
        "pylab": "PylabMagics",
        "qtconsole": "KernelMagics",
        "quickref": "BasicMagics",
        "recall": "HistoryMagics",
        "rehashx": "OSMagics",
        "reload_ext": "ExtensionMagics",
        "ren": "Other",
        "rep": "Other",
        "rerun": "HistoryMagics",
        "reset": "NamespaceMagics",
        "reset_selective": "NamespaceMagics",
        "rmdir": "Other",
        "run": "ExecutionMagics",
        "save": "CodeMagics",
        "sc": "OSMagics",
        "set_env": "OSMagics",
        "store": "StoreMagics",
        "sx": "OSMagics",
        "system": "OSMagics",
        "tb": "ExecutionMagics",
        "time": "ExecutionMagics",
        "timeit": "ExecutionMagics",
        "unalias": "OSMagics",
        "unload_ext": "ExtensionMagics",
        "who": "NamespaceMagics",
        "who_ls": "NamespaceMagics",
        "whos": "NamespaceMagics",
        "xdel": "NamespaceMagics",
        "xmode": "BasicMagics"
       }
      },
      "text/plain": [
       "Available line magics:\n",
       "%alias  %alias_magic  %autoawait  %autocall  %automagic  %autosave  %bookmark  %cd  %clear  %cls  %colors  %conda  %config  %connect_info  %copy  %ddir  %debug  %dhist  %dirs  %doctest_mode  %echo  %ed  %edit  %env  %gui  %hist  %history  %killbgscripts  %ldir  %less  %load  %load_ext  %loadpy  %logoff  %logon  %logstart  %logstate  %logstop  %ls  %lsmagic  %macro  %magic  %matplotlib  %mkdir  %more  %notebook  %page  %pastebin  %pdb  %pdef  %pdoc  %pfile  %pinfo  %pinfo2  %pip  %popd  %pprint  %precision  %prun  %psearch  %psource  %pushd  %pwd  %pycat  %pylab  %qtconsole  %quickref  %recall  %rehashx  %reload_ext  %ren  %rep  %rerun  %reset  %reset_selective  %rmdir  %run  %save  %sc  %set_env  %store  %sx  %system  %tb  %time  %timeit  %unalias  %unload_ext  %who  %who_ls  %whos  %xdel  %xmode\n",
       "\n",
       "Available cell magics:\n",
       "%%!  %%HTML  %%SVG  %%bash  %%capture  %%cmd  %%debug  %%file  %%html  %%javascript  %%js  %%latex  %%markdown  %%perl  %%prun  %%pypy  %%python  %%python2  %%python3  %%ruby  %%script  %%sh  %%svg  %%sx  %%system  %%time  %%timeit  %%writefile\n",
       "\n",
       "Automagic is ON, % prefix IS NOT needed for line magics."
      ]
     },
     "execution_count": 7,
     "metadata": {},
     "output_type": "execute_result"
    }
   ],
   "source": [
    "%lsmagic"
   ]
  },
  {
   "cell_type": "markdown",
   "id": "75b2ffb1",
   "metadata": {},
   "source": [
    "Estos comandos tienen muchas aplicaciones, como cargar o correr archivos de Python que estén en el mismo directorio, saber cuánto tiempo toma en correr un comando, o cambiar el directorio del notebook.\n",
    "\n",
    "El siguiente comando me dice cuanto tiempo toma en correr el siguiente código."
   ]
  },
  {
   "cell_type": "code",
   "execution_count": 8,
   "id": "dadf1589",
   "metadata": {},
   "outputs": [
    {
     "name": "stdout",
     "output_type": "stream",
     "text": [
      "CPU times: total: 0 ns\n",
      "Wall time: 0 ns\n"
     ]
    },
    {
     "data": {
      "text/plain": [
       "2"
      ]
     },
     "execution_count": 8,
     "metadata": {},
     "output_type": "execute_result"
    }
   ],
   "source": [
    "%time\n",
    "1+1"
   ]
  },
  {
   "cell_type": "markdown",
   "id": "641d694b",
   "metadata": {},
   "source": [
    "## Comandos para celdas\n",
    "Los comandos que se pueden usar para modificar celdas son los anteriores que comienzan con %%."
   ]
  },
  {
   "cell_type": "markdown",
   "id": "9c06703e",
   "metadata": {},
   "source": [
    "El siguiente comando convierte la celda a Markdown."
   ]
  },
  {
   "cell_type": "code",
   "execution_count": 9,
   "id": "d4505839",
   "metadata": {},
   "outputs": [
    {
     "data": {
      "text/markdown": [
       "Esta celda es de código, pero al correrla lo correrá como una celda de Markdown.\n"
      ],
      "text/plain": [
       "<IPython.core.display.Markdown object>"
      ]
     },
     "metadata": {},
     "output_type": "display_data"
    }
   ],
   "source": [
    "%%markdown\n",
    "Esta celda es de código, pero al correrla lo correrá como una celda de Markdown."
   ]
  },
  {
   "cell_type": "markdown",
   "id": "76ccda74",
   "metadata": {},
   "source": [
    "# Fuentes\n",
    "https://ebac.mx/blog/que-es-github\n",
    "\n",
    "https://www.xataka.com/basics/que-github-que-que-le-ofrece-a-desarrolladores\n",
    "\n",
    "https://www.markdownguide.org/cheat-sheet/\n",
    "\n",
    "https://www.geeksforgeeks.org/useful-ipython-magic-commands/"
   ]
  }
 ],
 "metadata": {
  "kernelspec": {
   "display_name": "Python 3 (ipykernel)",
   "language": "python",
   "name": "python3"
  },
  "language_info": {
   "codemirror_mode": {
    "name": "ipython",
    "version": 3
   },
   "file_extension": ".py",
   "mimetype": "text/x-python",
   "name": "python",
   "nbconvert_exporter": "python",
   "pygments_lexer": "ipython3",
   "version": "3.11.4"
  }
 },
 "nbformat": 4,
 "nbformat_minor": 5
}
